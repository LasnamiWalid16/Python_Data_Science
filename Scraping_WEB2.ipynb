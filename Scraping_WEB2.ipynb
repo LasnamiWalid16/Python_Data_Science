{
 "cells": [
  {
   "cell_type": "code",
   "execution_count": 1,
   "id": "63b0b3c2",
   "metadata": {},
   "outputs": [],
   "source": [
    "from bs4 import BeautifulSoup\n",
    "import urllib.request\n",
    "from IPython.display import HTML\n",
    "import re"
   ]
  },
  {
   "cell_type": "code",
   "execution_count": 2,
   "id": "abfaf9a6",
   "metadata": {},
   "outputs": [
    {
     "data": {
      "text/plain": [
       "bs4.BeautifulSoup"
      ]
     },
     "execution_count": 2,
     "metadata": {},
     "output_type": "execute_result"
    }
   ],
   "source": [
    "r = urllib.request.urlopen('https://analytics.usa.gov/').read()\n",
    "soup = BeautifulSoup(r, \"lxml\")\n",
    "type(soup)"
   ]
  },
  {
   "cell_type": "code",
   "execution_count": 3,
   "id": "8a01f171",
   "metadata": {},
   "outputs": [
    {
     "name": "stdout",
     "output_type": "stream",
     "text": [
      "<!DOCTYPE html>\n",
      "<html lang=\"en\">\n",
      " <!-- Initalize title and data source variables -->\n",
      " <head>\n",
      "  <!--\n",
      "\n"
     ]
    }
   ],
   "source": [
    "print(soup.prettify()[0:100])"
   ]
  },
  {
   "cell_type": "code",
   "execution_count": 4,
   "id": "50f4d993",
   "metadata": {},
   "outputs": [
    {
     "name": "stdout",
     "output_type": "stream",
     "text": [
      "/\n",
      "#explanation\n",
      "https://analytics.usa.gov/data/\n",
      "https://open.gsa.gov/api/dap/\n",
      "data/\n",
      "#top-pages-realtime\n",
      "#top-pages-7-days\n",
      "#top-pages-30-days\n",
      "https://analytics.usa.gov/data/live/all-pages-realtime.csv\n",
      "https://analytics.usa.gov/data/live/all-domains-30-days.csv\n",
      "https://www.digitalgov.gov/services/dap/\n",
      "https://www.digitalgov.gov/services/dap/common-questions-about-dap-faq/#part-4\n",
      "https://support.google.com/analytics/answer/2763052?hl=en\n",
      "https://analytics.usa.gov/data/live/second-level-domains.csv\n",
      "https://analytics.usa.gov/data/live/sites.csv\n",
      "mailto:DAP@support.digitalgov.gov\n",
      "https://analytics.usa.gov/data/\n",
      "https://open.gsa.gov/api/dap/\n",
      "mailto:DAP@support.digitalgov.gov\n",
      "https://github.com/GSA/analytics.usa.gov/issues\n",
      "https://github.com/GSA/analytics.usa.gov\n",
      "https://github.com/18F/analytics-reporter\n",
      "http://www.gsa.gov/\n",
      "https://www.digitalgov.gov/services/dap/\n",
      "https://cloud.gov/\n"
     ]
    }
   ],
   "source": [
    "for link in soup.find_all('a'):\n",
    "    print(link.get('href'))"
   ]
  },
  {
   "cell_type": "markdown",
   "id": "2f615436",
   "metadata": {},
   "source": [
    "Finding All links withs attr \"https\""
   ]
  },
  {
   "cell_type": "code",
   "execution_count": 5,
   "id": "dee6debf",
   "metadata": {},
   "outputs": [
    {
     "name": "stdout",
     "output_type": "stream",
     "text": [
      "<a href=\"https://analytics.usa.gov/data/\">Data</a>\n",
      "<a href=\"https://open.gsa.gov/api/dap/\" rel=\"noopener\" target=\"_blank\">API</a>\n",
      "<a href=\"https://analytics.usa.gov/data/live/all-pages-realtime.csv\">Download the full dataset.</a>\n",
      "<a href=\"https://analytics.usa.gov/data/live/all-domains-30-days.csv\">Download the full dataset.</a>\n",
      "<a class=\"external-link\" href=\"https://www.digitalgov.gov/services/dap/\">Digital Analytics Program</a>\n",
      "<a class=\"external-link\" href=\"https://www.digitalgov.gov/services/dap/common-questions-about-dap-faq/#part-4\">does not track individuals</a>\n",
      "<a class=\"external-link\" href=\"https://support.google.com/analytics/answer/2763052?hl=en\">anonymizes the IP addresses</a>\n",
      "<a class=\"external-link\" href=\"https://analytics.usa.gov/data/live/second-level-domains.csv\">400 executive branch government domains</a>\n",
      "<a class=\"external-link\" href=\"https://analytics.usa.gov/data/live/sites.csv\">about 5,700 total websites</a>\n",
      "<a href=\"https://analytics.usa.gov/data/\">download the data here.</a>\n",
      "<a href=\"https://open.gsa.gov/api/dap/\" rel=\"noopener\" target=\"_blank\"> API project</a>\n",
      "<a class=\"usa-button usa-button-secondary-inverse\" href=\"https://github.com/GSA/analytics.usa.gov/issues\">\n",
      "<img alt=\"Github Icon\" class=\"github-icon\" src=\"/images/github-logo-white.svg\"/>\n",
      "                  Suggest a feature or report an issue\n",
      "            </a>\n",
      "<a href=\"https://github.com/GSA/analytics.usa.gov\">\n",
      "<img alt=\"Github Icon\" class=\"github-icon\" src=\"/images/github-logo.svg\"/>\n",
      "              View our code on GitHub</a>\n",
      "<a href=\"https://github.com/18F/analytics-reporter\">\n",
      "<img alt=\"Github Icon\" class=\"github-icon\" src=\"/images/github-logo.svg\"/>\n",
      "              View our code for the data on GitHub</a>\n",
      "<a href=\"http://www.gsa.gov/\">\n",
      "<img alt=\"GSA\" src=\"/images/gsa-logo.svg\"/>\n",
      "</a>\n",
      "<a href=\"https://www.digitalgov.gov/services/dap/\">Digital Analytics Program</a>\n",
      "<a href=\"https://cloud.gov/\">cloud.gov</a>\n"
     ]
    }
   ],
   "source": [
    "for link in soup.find_all('a',attrs={'href': re.compile(\"http\")}):\n",
    "    print(link)"
   ]
  },
  {
   "cell_type": "code",
   "execution_count": 6,
   "id": "0faed96e",
   "metadata": {},
   "outputs": [
    {
     "name": "stdout",
     "output_type": "stream",
     "text": [
      "<a href=\"https://analytics.usa.gov/data/\">Data</a>\n",
      "<a href=\"https://open.gsa.gov/api/dap/\" rel=\"noopener\" target=\"_blank\">API</a>\n",
      "<a href=\"https://analytics.usa.gov/data/live/all-pages-realtime.csv\">Download the full dataset.</a>\n",
      "<a href=\"https://analytics.usa.gov/data/live/all-domains-30-days.csv\">Download the full dataset.</a>\n",
      "<a class=\"external-link\" href=\"https://www.digitalgov.gov/services/dap/\">Digital Analytics Program</a>\n",
      "<a class=\"external-link\" href=\"https://www.digitalgov.gov/services/dap/common-questions-about-dap-faq/#part-4\">does not track individuals</a>\n",
      "<a class=\"external-link\" href=\"https://support.google.com/analytics/answer/2763052?hl=en\">anonymizes the IP addresses</a>\n",
      "<a class=\"external-link\" href=\"https://analytics.usa.gov/data/live/second-level-domains.csv\">400 executive branch government domains</a>\n",
      "<a class=\"external-link\" href=\"https://analytics.usa.gov/data/live/sites.csv\">about 5,700 total websites</a>\n",
      "<a href=\"https://analytics.usa.gov/data/\">download the data here.</a>\n",
      "<a href=\"https://open.gsa.gov/api/dap/\" rel=\"noopener\" target=\"_blank\"> API project</a>\n",
      "<a class=\"usa-button usa-button-secondary-inverse\" href=\"https://github.com/GSA/analytics.usa.gov/issues\">\n",
      "<img alt=\"Github Icon\" class=\"github-icon\" src=\"/images/github-logo-white.svg\"/>\n",
      "                  Suggest a feature or report an issue\n",
      "            </a>\n",
      "<a href=\"https://github.com/GSA/analytics.usa.gov\">\n",
      "<img alt=\"Github Icon\" class=\"github-icon\" src=\"/images/github-logo.svg\"/>\n",
      "              View our code on GitHub</a>\n",
      "<a href=\"https://github.com/18F/analytics-reporter\">\n",
      "<img alt=\"Github Icon\" class=\"github-icon\" src=\"/images/github-logo.svg\"/>\n",
      "              View our code for the data on GitHub</a>\n",
      "<a href=\"http://www.gsa.gov/\">\n",
      "<img alt=\"GSA\" src=\"/images/gsa-logo.svg\"/>\n",
      "</a>\n",
      "<a href=\"https://www.digitalgov.gov/services/dap/\">Digital Analytics Program</a>\n",
      "<a href=\"https://cloud.gov/\">cloud.gov</a>\n"
     ]
    }
   ],
   "source": [
    "file=open(\"parsed_data.txt\",\"w\")\n",
    "for link in soup.find_all('a',attrs={'href': re.compile(\"http\")}):\n",
    "    soup_link=str(link)\n",
    "    print(soup_link)\n",
    "    file.write(soup_link)\n",
    "\n",
    "file.flush()\n",
    "file.close()"
   ]
  },
  {
   "cell_type": "code",
   "execution_count": 8,
   "id": "581b4f38",
   "metadata": {},
   "outputs": [
    {
     "data": {
      "text/plain": [
       "'C:\\\\Users\\\\TechInfo\\\\Desktop\\\\MACHINELEARNING TUTO\\\\LinkedIn-Python\\\\Python_Data_Science'"
      ]
     },
     "execution_count": 8,
     "metadata": {},
     "output_type": "execute_result"
    }
   ],
   "source": [
    "%pwd"
   ]
  }
 ],
 "metadata": {
  "kernelspec": {
   "display_name": "Python 3",
   "language": "python",
   "name": "python3"
  },
  "language_info": {
   "codemirror_mode": {
    "name": "ipython",
    "version": 3
   },
   "file_extension": ".py",
   "mimetype": "text/x-python",
   "name": "python",
   "nbconvert_exporter": "python",
   "pygments_lexer": "ipython3",
   "version": "3.8.8"
  }
 },
 "nbformat": 4,
 "nbformat_minor": 5
}
