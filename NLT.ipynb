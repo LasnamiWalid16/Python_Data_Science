{
 "cells": [
  {
   "cell_type": "code",
   "execution_count": 76,
   "id": "8d02c577",
   "metadata": {},
   "outputs": [],
   "source": [
    "import nltk"
   ]
  },
  {
   "cell_type": "markdown",
   "id": "7ff305f9",
   "metadata": {},
   "source": [
    "<h3>NLP</h3>"
   ]
  },
  {
   "cell_type": "code",
   "execution_count": 77,
   "id": "a639867a",
   "metadata": {},
   "outputs": [],
   "source": [
    "text = \"On Wednesday, the Association for Computing Machinery, the world’s largest society of computing professionals, announced that Hinton, LeCun and Bengio had won this year’s Turing Award for their work on neural networks. The Turing Award, which was introduced in 1966, is often called the Nobel Prize of computing, and it includes a $1 million prize, which the three scientists will share reacts introduced announcement.\""
   ]
  },
  {
   "cell_type": "code",
   "execution_count": 78,
   "id": "d30afef5",
   "metadata": {},
   "outputs": [
    {
     "name": "stderr",
     "output_type": "stream",
     "text": [
      "[nltk_data] Downloading package punkt to\n",
      "[nltk_data]     C:\\Users\\TechInfo\\AppData\\Roaming\\nltk_data...\n",
      "[nltk_data]   Package punkt is already up-to-date!\n"
     ]
    },
    {
     "data": {
      "text/plain": [
       "True"
      ]
     },
     "execution_count": 78,
     "metadata": {},
     "output_type": "execute_result"
    }
   ],
   "source": [
    "nltk.download('punkt')"
   ]
  },
  {
   "cell_type": "markdown",
   "id": "30e2c9a2",
   "metadata": {},
   "source": [
    "<h3>Sentence Tokenize</h3>"
   ]
  },
  {
   "cell_type": "code",
   "execution_count": 79,
   "id": "5c8105fb",
   "metadata": {},
   "outputs": [
    {
     "name": "stdout",
     "output_type": "stream",
     "text": [
      "Sentence Tokenizing the text: \n",
      "\n",
      "['On Wednesday, the Association for Computing Machinery, the world’s largest society of computing professionals, announced that Hinton, LeCun and Bengio had won this year’s Turing Award for their work on neural networks.', 'The Turing Award, which was introduced in 1966, is often called the Nobel Prize of computing, and it includes a $1 million prize, which the three scientists will share reacts introduced announcement.']\n"
     ]
    }
   ],
   "source": [
    "from nltk.tokenize import sent_tokenize\n",
    "sent_tk = sent_tokenize(text)\n",
    "print('Sentence Tokenizing the text: \\n')\n",
    "print(sent_tk)"
   ]
  },
  {
   "cell_type": "markdown",
   "id": "b10ab41d",
   "metadata": {},
   "source": [
    "<h3>Word Tokenize</h3>"
   ]
  },
  {
   "cell_type": "code",
   "execution_count": 80,
   "id": "398dde0e",
   "metadata": {},
   "outputs": [
    {
     "name": "stdout",
     "output_type": "stream",
     "text": [
      "Word Tokenizing the text: \n",
      "\n",
      "['On', 'Wednesday', ',', 'the', 'Association', 'for', 'Computing', 'Machinery', ',', 'the', 'world', '’', 's', 'largest', 'society', 'of', 'computing', 'professionals', ',', 'announced', 'that', 'Hinton', ',', 'LeCun', 'and', 'Bengio', 'had', 'won', 'this', 'year', '’', 's', 'Turing', 'Award', 'for', 'their', 'work', 'on', 'neural', 'networks', '.', 'The', 'Turing', 'Award', ',', 'which', 'was', 'introduced', 'in', '1966', ',', 'is', 'often', 'called', 'the', 'Nobel', 'Prize', 'of', 'computing', ',', 'and', 'it', 'includes', 'a', '$', '1', 'million', 'prize', ',', 'which', 'the', 'three', 'scientists', 'will', 'share', 'reacts', 'introduced', 'announcement', '.']\n",
      "the number of words in the text is:79\n"
     ]
    }
   ],
   "source": [
    "from nltk.tokenize import word_tokenize\n",
    "word_tk = word_tokenize(text)\n",
    "print('Word Tokenizing the text: \\n')\n",
    "print(word_tk)\n",
    "print(f'the number of words in the text is:{len(word_tk)}')"
   ]
  },
  {
   "cell_type": "markdown",
   "id": "428be114",
   "metadata": {},
   "source": [
    "<h3>Removing Stop Words</h3>"
   ]
  },
  {
   "cell_type": "code",
   "execution_count": 81,
   "id": "585868c5",
   "metadata": {},
   "outputs": [
    {
     "name": "stderr",
     "output_type": "stream",
     "text": [
      "[nltk_data] Downloading package stopwords to\n",
      "[nltk_data]     C:\\Users\\TechInfo\\AppData\\Roaming\\nltk_data...\n",
      "[nltk_data]   Package stopwords is already up-to-date!\n"
     ]
    },
    {
     "data": {
      "text/plain": [
       "True"
      ]
     },
     "execution_count": 81,
     "metadata": {},
     "output_type": "execute_result"
    }
   ],
   "source": [
    "nltk.download('stopwords')"
   ]
  },
  {
   "cell_type": "code",
   "execution_count": 82,
   "id": "ebc00446",
   "metadata": {},
   "outputs": [
    {
     "name": "stdout",
     "output_type": "stream",
     "text": [
      "StopWords In english language are :\n",
      "\n",
      "{'on', \"doesn't\", 'shan', 'during', 'against', 'through', \"shouldn't\", 'such', 'herself', 'mightn', 'which', 'to', 'there', 'just', 'under', 'how', 'can', 'once', 'she', 'about', 'in', 'while', 'i', 'here', 'those', 'than', 'over', 'by', \"hadn't\", 'what', 'me', 'an', 'the', 'only', 'being', 'her', 'too', 'your', \"weren't\", 'ain', \"haven't\", 'who', 'for', 'as', 'any', 'my', 'with', 'has', 'we', 'doesn', 's', 'no', 'o', 'whom', \"you're\", 'ourselves', 'down', 'isn', 'theirs', \"mightn't\", 'couldn', 'of', 'and', 'his', 'all', 'further', 'nor', \"isn't\", 'll', 'themselves', 'our', 'from', 're', \"mustn't\", 'ma', 'are', 've', 'few', 'hasn', 'won', \"didn't\", \"she's\", 'at', 'same', 'both', 'its', 'off', 'weren', 'below', 'y', 'm', 'ours', \"you've\", 'be', 'why', 'you', 'needn', 'own', 'did', 'some', 'now', 'above', 'hadn', 'out', 'their', 'him', 'until', 'were', 'mustn', 'd', 'it', 'should', 'yourself', 'myself', 'or', 'does', 'itself', 'that', 'haven', 'hers', \"needn't\", \"couldn't\", \"wouldn't\", 'don', \"won't\", 'but', \"you'd\", 'do', 'more', 'so', 'shouldn', 'they', 'then', 'after', 'again', 'where', \"hasn't\", 'he', \"don't\", \"it's\", 'had', 'didn', 'not', 'very', 'because', 'am', 'between', 'aren', 'before', \"that'll\", 'this', 'wouldn', 'been', 'yourselves', \"shan't\", 'when', 'doing', \"you'll\", 'if', 'each', 'a', 'himself', 'up', 'these', 'was', 'is', 'have', \"should've\", 'having', 'into', 'most', 'other', 'wasn', 't', 'yours', 'will', 'them', \"wasn't\", \"aren't\"}\n"
     ]
    }
   ],
   "source": [
    "from nltk.corpus import stopwords\n",
    "\n",
    "sw=set(stopwords.words(\"english\"))\n",
    "print(\"StopWords In english language are :\\n\")\n",
    "print(sw)"
   ]
  },
  {
   "cell_type": "code",
   "execution_count": 83,
   "id": "a432a4e1",
   "metadata": {},
   "outputs": [
    {
     "name": "stdout",
     "output_type": "stream",
     "text": [
      "the Text after removing stop words :\n",
      "\n",
      "['On', 'Wednesday', ',', 'Association', 'Computing', 'Machinery', ',', 'world', '’', 'largest', 'society', 'computing', 'professionals', ',', 'announced', 'Hinton', ',', 'LeCun', 'Bengio', 'year', '’', 'Turing', 'Award', 'work', 'neural', 'networks', '.', 'The', 'Turing', 'Award', ',', 'introduced', '1966', ',', 'often', 'called', 'Nobel', 'Prize', 'computing', ',', 'includes', '$', '1', 'million', 'prize', ',', 'three', 'scientists', 'share', 'reacts', 'introduced', 'announcement', '.']\n",
      "the number of words is:53\n"
     ]
    }
   ],
   "source": [
    "filtered_word=[w for w in word_tk if not w in sw]\n",
    "print(\"the Text after removing stop words :\\n\")\n",
    "print(filtered_word)\n",
    "print(f'the number of words is:{len(filtered_word)}')"
   ]
  },
  {
   "cell_type": "markdown",
   "id": "1d6805c3",
   "metadata": {},
   "source": [
    "<h3>Stemming</h3>"
   ]
  },
  {
   "cell_type": "code",
   "execution_count": 84,
   "id": "6d0a65a7",
   "metadata": {},
   "outputs": [
    {
     "name": "stdout",
     "output_type": "stream",
     "text": [
      "Filtred Sentence: \n",
      "['On', 'Wednesday', ',', 'Association', 'Computing', 'Machinery', ',', 'world', '’', 'largest', 'society', 'computing', 'professionals', ',', 'announced', 'Hinton', ',', 'LeCun', 'Bengio', 'year', '’', 'Turing', 'Award', 'work', 'neural', 'networks', '.', 'The', 'Turing', 'Award', ',', 'introduced', '1966', ',', 'often', 'called', 'Nobel', 'Prize', 'computing', ',', 'includes', '$', '1', 'million', 'prize', ',', 'three', 'scientists', 'share', 'reacts', 'introduced', 'announcement', '.']\n",
      "Stemmed Sentence: \n",
      "['on', 'wednesday', ',', 'associ', 'comput', 'machineri', ',', 'world', '’', 'largest', 'societi', 'comput', 'profession', ',', 'announc', 'hinton', ',', 'lecun', 'bengio', 'year', '’', 'ture', 'award', 'work', 'neural', 'network', '.', 'the', 'ture', 'award', ',', 'introduc', '1966', ',', 'often', 'call', 'nobel', 'prize', 'comput', ',', 'includ', '$', '1', 'million', 'prize', ',', 'three', 'scientist', 'share', 'react', 'introduc', 'announc', '.']\n"
     ]
    }
   ],
   "source": [
    "from nltk.stem import PorterStemmer\n",
    "from nltk.tokenize import sent_tokenize, word_tokenize\n",
    "\n",
    "port_stem = PorterStemmer()\n",
    "stemmed_words=[]\n",
    "\n",
    "for w in filtered_word:\n",
    "    stemmed_words.append(port_stem.stem(w))\n",
    "    \n",
    "print(f'Filtred Sentence: \\n{filtered_word}')\n",
    "print(f'Stemmed Sentence: \\n{stemmed_words}')"
   ]
  },
  {
   "cell_type": "markdown",
   "id": "46bb6d6d",
   "metadata": {},
   "source": [
    "<h3>Lemmatazing</h3>"
   ]
  },
  {
   "cell_type": "code",
   "execution_count": 85,
   "id": "e547750e",
   "metadata": {},
   "outputs": [
    {
     "name": "stderr",
     "output_type": "stream",
     "text": [
      "[nltk_data] Downloading package wordnet to\n",
      "[nltk_data]     C:\\Users\\TechInfo\\AppData\\Roaming\\nltk_data...\n",
      "[nltk_data]   Package wordnet is already up-to-date!\n"
     ]
    },
    {
     "data": {
      "text/plain": [
       "True"
      ]
     },
     "execution_count": 85,
     "metadata": {},
     "output_type": "execute_result"
    }
   ],
   "source": [
    "nltk.download('wordnet')"
   ]
  },
  {
   "cell_type": "code",
   "execution_count": 86,
   "id": "407e7194",
   "metadata": {},
   "outputs": [
    {
     "name": "stdout",
     "output_type": "stream",
     "text": [
      "['On', 'Wednesday', ',', 'Association', 'Computing', 'Machinery', ',', 'world', '’', 'largest', 'society', 'computing', 'professional', ',', 'announced', 'Hinton', ',', 'LeCun', 'Bengio', 'year', '’', 'Turing', 'Award', 'work', 'neural', 'network', '.', 'The', 'Turing', 'Award', ',', 'introduced', '1966', ',', 'often', 'called', 'Nobel', 'Prize', 'computing', ',', 'includes', '$', '1', 'million', 'prize', ',', 'three', 'scientist', 'share', 'reacts', 'introduced', 'announcement', '.']\n"
     ]
    }
   ],
   "source": [
    "from nltk.stem.wordnet import WordNetLemmatizer\n",
    "lem= WordNetLemmatizer()\n",
    "\n",
    "from nltk.stem.porter import PorterStemmer\n",
    "\n",
    "stem = PorterStemmer()\n",
    "\n",
    "lemm_words=[]\n",
    "\n",
    "for i in range(len(filtered_word)):\n",
    "    lemm_words.append(lem.lemmatize(filtered_word[i]))\n",
    "    \n",
    "print(lemm_words)"
   ]
  },
  {
   "cell_type": "markdown",
   "id": "2fd7500a",
   "metadata": {},
   "source": [
    "<h3>Parts Of Speech tagging</h3>\n"
   ]
  },
  {
   "cell_type": "code",
   "execution_count": 87,
   "id": "9916408a",
   "metadata": {},
   "outputs": [
    {
     "name": "stderr",
     "output_type": "stream",
     "text": [
      "[nltk_data] Downloading package averaged_perceptron_tagger to\n",
      "[nltk_data]     C:\\Users\\TechInfo\\AppData\\Roaming\\nltk_data...\n",
      "[nltk_data]   Package averaged_perceptron_tagger is already up-to-\n",
      "[nltk_data]       date!\n"
     ]
    },
    {
     "data": {
      "text/plain": [
       "True"
      ]
     },
     "execution_count": 87,
     "metadata": {},
     "output_type": "execute_result"
    }
   ],
   "source": [
    "nltk.download('averaged_perceptron_tagger')"
   ]
  },
  {
   "cell_type": "code",
   "execution_count": 88,
   "id": "a3ebba1b",
   "metadata": {},
   "outputs": [
    {
     "name": "stdout",
     "output_type": "stream",
     "text": [
      "[('On', 'IN'), ('Wednesday', 'NNP'), (',', ','), ('the', 'DT'), ('Association', 'NNP'), ('for', 'IN'), ('Computing', 'VBG'), ('Machinery', 'NNP'), (',', ','), ('the', 'DT'), ('world', 'NN'), ('’', 'NNP'), ('s', 'RB'), ('largest', 'JJS'), ('society', 'NN'), ('of', 'IN'), ('computing', 'VBG'), ('professionals', 'NNS'), (',', ','), ('announced', 'VBD'), ('that', 'IN'), ('Hinton', 'NNP'), (',', ','), ('LeCun', 'NNP'), ('and', 'CC'), ('Bengio', 'NNP'), ('had', 'VBD'), ('won', 'VBN'), ('this', 'DT'), ('year', 'NN'), ('’', 'VBZ'), ('s', 'JJ'), ('Turing', 'NNP'), ('Award', 'NNP'), ('for', 'IN'), ('their', 'PRP$'), ('work', 'NN'), ('on', 'IN'), ('neural', 'JJ'), ('networks', 'NNS'), ('.', '.'), ('The', 'DT'), ('Turing', 'NNP'), ('Award', 'NNP'), (',', ','), ('which', 'WDT'), ('was', 'VBD'), ('introduced', 'VBN'), ('in', 'IN'), ('1966', 'CD'), (',', ','), ('is', 'VBZ'), ('often', 'RB'), ('called', 'VBN'), ('the', 'DT'), ('Nobel', 'NNP'), ('Prize', 'NNP'), ('of', 'IN'), ('computing', 'NN'), (',', ','), ('and', 'CC'), ('it', 'PRP'), ('includes', 'VBZ'), ('a', 'DT'), ('$', '$'), ('1', 'CD'), ('million', 'CD'), ('prize', 'NN'), (',', ','), ('which', 'WDT'), ('the', 'DT'), ('three', 'CD'), ('scientists', 'NNS'), ('will', 'MD'), ('share', 'NN'), ('reacts', 'NNS'), ('introduced', 'VBN'), ('announcement', 'NN'), ('.', '.')]\n"
     ]
    }
   ],
   "source": [
    "from nltk import pos_tag\n",
    "tagged_words=pos_tag(word_tk)\n",
    "print(tagged_words)"
   ]
  },
  {
   "cell_type": "markdown",
   "id": "1e1d1624",
   "metadata": {},
   "source": [
    "<h4>Parts Of Speech tagging</h4>\n"
   ]
  },
  {
   "cell_type": "code",
   "execution_count": 89,
   "id": "86d6e99c",
   "metadata": {},
   "outputs": [
    {
     "name": "stdout",
     "output_type": "stream",
     "text": [
      "<FreqDist with 58 samples and 79 outcomes>\n"
     ]
    }
   ],
   "source": [
    "from nltk.probability import FreqDist\n",
    "fd = FreqDist(word_tk)\n",
    "print(fd)"
   ]
  },
  {
   "cell_type": "code",
   "execution_count": 90,
   "id": "deead323",
   "metadata": {},
   "outputs": [
    {
     "data": {
      "image/png": "[encoded data removed]",
      "text/plain": [
       "<Figure size 432x288 with 1 Axes>"
      ]
     },
     "metadata": {
      "needs_background": "light"
     },
     "output_type": "display_data"
    }
   ],
   "source": [
    "import matplotlib.pyplot as plt\n",
    "fd.plot(30,cumulative=False)\n",
    "plt.show()\n"
   ]
  }
 ],
 "metadata": {
  "kernelspec": {
   "display_name": "Python 3",
   "language": "python",
   "name": "python3"
  },
  "language_info": {
   "codemirror_mode": {
    "name": "ipython",
    "version": 3
   },
   "file_extension": ".py",
   "mimetype": "text/x-python",
   "name": "python",
   "nbconvert_exporter": "python",
   "pygments_lexer": "ipython3",
   "version": "3.8.8"
  }
 },
 "nbformat": 4,
 "nbformat_minor": 5
}
