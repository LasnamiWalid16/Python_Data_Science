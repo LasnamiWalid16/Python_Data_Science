{
 "cells": [
  {
   "cell_type": "code",
   "execution_count": 1,
   "id": "91d2ac65",
   "metadata": {},
   "outputs": [],
   "source": [
    "import numpy as np\n",
    "from numpy.random import randn\n",
    "import pandas as pd\n",
    "from pandas import Series,DataFrame\n",
    "\n",
    "import matplotlib.pyplot as plt\n",
    "from matplotlib import rcParams"
   ]
  },
  {
   "cell_type": "markdown",
   "id": "8b1643eb",
   "metadata": {},
   "source": [
    "Creating a line chart from a list Object"
   ]
  },
  {
   "cell_type": "markdown",
   "id": "1cc82c1d",
   "metadata": {},
   "source": [
    "Plotting a line chart from Pandas Object (CSV FILE)"
   ]
  },
  {
   "cell_type": "code",
   "execution_count": null,
   "id": "0ee5a517",
   "metadata": {},
   "outputs": [],
   "source": [
    "cars=pd.read_csv('mtcars.csv')"
   ]
  }
 ],
 "metadata": {
  "kernelspec": {
   "display_name": "Python 3",
   "language": "python",
   "name": "python3"
  },
  "language_info": {
   "codemirror_mode": {
    "name": "ipython",
    "version": 3
   },
   "file_extension": ".py",
   "mimetype": "text/x-python",
   "name": "python",
   "nbconvert_exporter": "python",
   "pygments_lexer": "ipython3",
   "version": "3.8.8"
  }
 },
 "nbformat": 4,
 "nbformat_minor": 5
}
